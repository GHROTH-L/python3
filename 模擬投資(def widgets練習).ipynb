{
  "nbformat": 4,
  "nbformat_minor": 0,
  "metadata": {
    "colab": {
      "provenance": [],
      "authorship_tag": "ABX9TyMnWpO7sZuf6GialW4hXUIk",
      "include_colab_link": true
    },
    "kernelspec": {
      "name": "python3",
      "display_name": "Python 3"
    },
    "language_info": {
      "name": "python"
    },
    "widgets": {
      "application/vnd.jupyter.widget-state+json": {
        "ec25dccffb284b248b6922163cbac347": {
          "model_module": "@jupyter-widgets/controls",
          "model_name": "IntTextModel",
          "model_module_version": "1.5.0",
          "state": {
            "_dom_classes": [],
            "_model_module": "@jupyter-widgets/controls",
            "_model_module_version": "1.5.0",
            "_model_name": "IntTextModel",
            "_view_count": null,
            "_view_module": "@jupyter-widgets/controls",
            "_view_module_version": "1.5.0",
            "_view_name": "IntTextView",
            "continuous_update": false,
            "description": "投資金額：",
            "description_tooltip": null,
            "disabled": false,
            "layout": "IPY_MODEL_e26d10aa554140eb97b6fb94f5924693",
            "step": 1,
            "style": "IPY_MODEL_b34c375006604a02971daf067b5b89f9",
            "value": 10000
          }
        },
        "e26d10aa554140eb97b6fb94f5924693": {
          "model_module": "@jupyter-widgets/base",
          "model_name": "LayoutModel",
          "model_module_version": "1.2.0",
          "state": {
            "_model_module": "@jupyter-widgets/base",
            "_model_module_version": "1.2.0",
            "_model_name": "LayoutModel",
            "_view_count": null,
            "_view_module": "@jupyter-widgets/base",
            "_view_module_version": "1.2.0",
            "_view_name": "LayoutView",
            "align_content": null,
            "align_items": null,
            "align_self": null,
            "border": null,
            "bottom": null,
            "display": null,
            "flex": null,
            "flex_flow": null,
            "grid_area": null,
            "grid_auto_columns": null,
            "grid_auto_flow": null,
            "grid_auto_rows": null,
            "grid_column": null,
            "grid_gap": null,
            "grid_row": null,
            "grid_template_areas": null,
            "grid_template_columns": null,
            "grid_template_rows": null,
            "height": null,
            "justify_content": null,
            "justify_items": null,
            "left": null,
            "margin": null,
            "max_height": null,
            "max_width": null,
            "min_height": null,
            "min_width": null,
            "object_fit": null,
            "object_position": null,
            "order": null,
            "overflow": null,
            "overflow_x": null,
            "overflow_y": null,
            "padding": null,
            "right": null,
            "top": null,
            "visibility": null,
            "width": null
          }
        },
        "b34c375006604a02971daf067b5b89f9": {
          "model_module": "@jupyter-widgets/controls",
          "model_name": "DescriptionStyleModel",
          "model_module_version": "1.5.0",
          "state": {
            "_model_module": "@jupyter-widgets/controls",
            "_model_module_version": "1.5.0",
            "_model_name": "DescriptionStyleModel",
            "_view_count": null,
            "_view_module": "@jupyter-widgets/base",
            "_view_module_version": "1.2.0",
            "_view_name": "StyleView",
            "description_width": ""
          }
        },
        "76fa5830def4446f9a109e20955ed2f5": {
          "model_module": "@jupyter-widgets/controls",
          "model_name": "IntSliderModel",
          "model_module_version": "1.5.0",
          "state": {
            "_dom_classes": [],
            "_model_module": "@jupyter-widgets/controls",
            "_model_module_version": "1.5.0",
            "_model_name": "IntSliderModel",
            "_view_count": null,
            "_view_module": "@jupyter-widgets/controls",
            "_view_module_version": "1.5.0",
            "_view_name": "IntSliderView",
            "continuous_update": true,
            "description": "投資期數（年）：",
            "description_tooltip": null,
            "disabled": false,
            "layout": "IPY_MODEL_92aa536c409842d5ad589bd0182a3006",
            "max": 10,
            "min": 1,
            "orientation": "horizontal",
            "readout": true,
            "readout_format": "d",
            "step": 1,
            "style": "IPY_MODEL_873ca6b5d5174e3280afbe7b4ca61732",
            "value": 1
          }
        },
        "92aa536c409842d5ad589bd0182a3006": {
          "model_module": "@jupyter-widgets/base",
          "model_name": "LayoutModel",
          "model_module_version": "1.2.0",
          "state": {
            "_model_module": "@jupyter-widgets/base",
            "_model_module_version": "1.2.0",
            "_model_name": "LayoutModel",
            "_view_count": null,
            "_view_module": "@jupyter-widgets/base",
            "_view_module_version": "1.2.0",
            "_view_name": "LayoutView",
            "align_content": null,
            "align_items": null,
            "align_self": null,
            "border": null,
            "bottom": null,
            "display": null,
            "flex": null,
            "flex_flow": null,
            "grid_area": null,
            "grid_auto_columns": null,
            "grid_auto_flow": null,
            "grid_auto_rows": null,
            "grid_column": null,
            "grid_gap": null,
            "grid_row": null,
            "grid_template_areas": null,
            "grid_template_columns": null,
            "grid_template_rows": null,
            "height": null,
            "justify_content": null,
            "justify_items": null,
            "left": null,
            "margin": null,
            "max_height": null,
            "max_width": null,
            "min_height": null,
            "min_width": null,
            "object_fit": null,
            "object_position": null,
            "order": null,
            "overflow": null,
            "overflow_x": null,
            "overflow_y": null,
            "padding": null,
            "right": null,
            "top": null,
            "visibility": null,
            "width": null
          }
        },
        "873ca6b5d5174e3280afbe7b4ca61732": {
          "model_module": "@jupyter-widgets/controls",
          "model_name": "SliderStyleModel",
          "model_module_version": "1.5.0",
          "state": {
            "_model_module": "@jupyter-widgets/controls",
            "_model_module_version": "1.5.0",
            "_model_name": "SliderStyleModel",
            "_view_count": null,
            "_view_module": "@jupyter-widgets/base",
            "_view_module_version": "1.2.0",
            "_view_name": "StyleView",
            "description_width": "",
            "handle_color": null
          }
        },
        "2183b037d2654c27a3c7cee2ee87fe01": {
          "model_module": "@jupyter-widgets/controls",
          "model_name": "FloatSliderModel",
          "model_module_version": "1.5.0",
          "state": {
            "_dom_classes": [],
            "_model_module": "@jupyter-widgets/controls",
            "_model_module_version": "1.5.0",
            "_model_name": "FloatSliderModel",
            "_view_count": null,
            "_view_module": "@jupyter-widgets/controls",
            "_view_module_version": "1.5.0",
            "_view_name": "FloatSliderView",
            "continuous_update": true,
            "description": "預期回報率（%）：",
            "description_tooltip": null,
            "disabled": false,
            "layout": "IPY_MODEL_42b38745dfbb4df6a4691a4508e444df",
            "max": 10,
            "min": 0,
            "orientation": "horizontal",
            "readout": true,
            "readout_format": ".2f",
            "step": 0.1,
            "style": "IPY_MODEL_fb482f23756740948c5880a20bd7bcf1",
            "value": 4
          }
        },
        "42b38745dfbb4df6a4691a4508e444df": {
          "model_module": "@jupyter-widgets/base",
          "model_name": "LayoutModel",
          "model_module_version": "1.2.0",
          "state": {
            "_model_module": "@jupyter-widgets/base",
            "_model_module_version": "1.2.0",
            "_model_name": "LayoutModel",
            "_view_count": null,
            "_view_module": "@jupyter-widgets/base",
            "_view_module_version": "1.2.0",
            "_view_name": "LayoutView",
            "align_content": null,
            "align_items": null,
            "align_self": null,
            "border": null,
            "bottom": null,
            "display": null,
            "flex": null,
            "flex_flow": null,
            "grid_area": null,
            "grid_auto_columns": null,
            "grid_auto_flow": null,
            "grid_auto_rows": null,
            "grid_column": null,
            "grid_gap": null,
            "grid_row": null,
            "grid_template_areas": null,
            "grid_template_columns": null,
            "grid_template_rows": null,
            "height": null,
            "justify_content": null,
            "justify_items": null,
            "left": null,
            "margin": null,
            "max_height": null,
            "max_width": null,
            "min_height": null,
            "min_width": null,
            "object_fit": null,
            "object_position": null,
            "order": null,
            "overflow": null,
            "overflow_x": null,
            "overflow_y": null,
            "padding": null,
            "right": null,
            "top": null,
            "visibility": null,
            "width": null
          }
        },
        "fb482f23756740948c5880a20bd7bcf1": {
          "model_module": "@jupyter-widgets/controls",
          "model_name": "SliderStyleModel",
          "model_module_version": "1.5.0",
          "state": {
            "_model_module": "@jupyter-widgets/controls",
            "_model_module_version": "1.5.0",
            "_model_name": "SliderStyleModel",
            "_view_count": null,
            "_view_module": "@jupyter-widgets/base",
            "_view_module_version": "1.2.0",
            "_view_name": "StyleView",
            "description_width": "",
            "handle_color": null
          }
        },
        "d0692c58acba49e3a95e5a9e2c098253": {
          "model_module": "@jupyter-widgets/controls",
          "model_name": "ButtonModel",
          "model_module_version": "1.5.0",
          "state": {
            "_dom_classes": [],
            "_model_module": "@jupyter-widgets/controls",
            "_model_module_version": "1.5.0",
            "_model_name": "ButtonModel",
            "_view_count": null,
            "_view_module": "@jupyter-widgets/controls",
            "_view_module_version": "1.5.0",
            "_view_name": "ButtonView",
            "button_style": "",
            "description": "計算回報",
            "disabled": false,
            "icon": "",
            "layout": "IPY_MODEL_83aeda50206d45639c5823db839a220c",
            "style": "IPY_MODEL_817e64c15f4446b2b90e9d7734dd3d96",
            "tooltip": ""
          }
        },
        "83aeda50206d45639c5823db839a220c": {
          "model_module": "@jupyter-widgets/base",
          "model_name": "LayoutModel",
          "model_module_version": "1.2.0",
          "state": {
            "_model_module": "@jupyter-widgets/base",
            "_model_module_version": "1.2.0",
            "_model_name": "LayoutModel",
            "_view_count": null,
            "_view_module": "@jupyter-widgets/base",
            "_view_module_version": "1.2.0",
            "_view_name": "LayoutView",
            "align_content": null,
            "align_items": null,
            "align_self": null,
            "border": null,
            "bottom": null,
            "display": null,
            "flex": null,
            "flex_flow": null,
            "grid_area": null,
            "grid_auto_columns": null,
            "grid_auto_flow": null,
            "grid_auto_rows": null,
            "grid_column": null,
            "grid_gap": null,
            "grid_row": null,
            "grid_template_areas": null,
            "grid_template_columns": null,
            "grid_template_rows": null,
            "height": null,
            "justify_content": null,
            "justify_items": null,
            "left": null,
            "margin": null,
            "max_height": null,
            "max_width": null,
            "min_height": null,
            "min_width": null,
            "object_fit": null,
            "object_position": null,
            "order": null,
            "overflow": null,
            "overflow_x": null,
            "overflow_y": null,
            "padding": null,
            "right": null,
            "top": null,
            "visibility": null,
            "width": null
          }
        },
        "817e64c15f4446b2b90e9d7734dd3d96": {
          "model_module": "@jupyter-widgets/controls",
          "model_name": "ButtonStyleModel",
          "model_module_version": "1.5.0",
          "state": {
            "_model_module": "@jupyter-widgets/controls",
            "_model_module_version": "1.5.0",
            "_model_name": "ButtonStyleModel",
            "_view_count": null,
            "_view_module": "@jupyter-widgets/base",
            "_view_module_version": "1.2.0",
            "_view_name": "StyleView",
            "button_color": null,
            "font_weight": ""
          }
        },
        "66d8b7b8c5bc41cbac2d422419e5e358": {
          "model_module": "@jupyter-widgets/output",
          "model_name": "OutputModel",
          "model_module_version": "1.0.0",
          "state": {
            "_dom_classes": [],
            "_model_module": "@jupyter-widgets/output",
            "_model_module_version": "1.0.0",
            "_model_name": "OutputModel",
            "_view_count": null,
            "_view_module": "@jupyter-widgets/output",
            "_view_module_version": "1.0.0",
            "_view_name": "OutputView",
            "layout": "IPY_MODEL_72f08d30a76b431692c43b2cf34ea28f",
            "msg_id": "",
            "outputs": [
              {
                "output_type": "stream",
                "name": "stdout",
                "text": [
                  "投資金額 10000 元, 投資期數 1 年, 預期回報率 5.01%, 預期回報 501.00 元, 總回報 10501.00 元\n",
                  "遇到事件4，銀行調整利率+1%\n"
                ]
              }
            ]
          }
        },
        "72f08d30a76b431692c43b2cf34ea28f": {
          "model_module": "@jupyter-widgets/base",
          "model_name": "LayoutModel",
          "model_module_version": "1.2.0",
          "state": {
            "_model_module": "@jupyter-widgets/base",
            "_model_module_version": "1.2.0",
            "_model_name": "LayoutModel",
            "_view_count": null,
            "_view_module": "@jupyter-widgets/base",
            "_view_module_version": "1.2.0",
            "_view_name": "LayoutView",
            "align_content": null,
            "align_items": null,
            "align_self": null,
            "border": null,
            "bottom": null,
            "display": null,
            "flex": null,
            "flex_flow": null,
            "grid_area": null,
            "grid_auto_columns": null,
            "grid_auto_flow": null,
            "grid_auto_rows": null,
            "grid_column": null,
            "grid_gap": null,
            "grid_row": null,
            "grid_template_areas": null,
            "grid_template_columns": null,
            "grid_template_rows": null,
            "height": null,
            "justify_content": null,
            "justify_items": null,
            "left": null,
            "margin": null,
            "max_height": null,
            "max_width": null,
            "min_height": null,
            "min_width": null,
            "object_fit": null,
            "object_position": null,
            "order": null,
            "overflow": null,
            "overflow_x": null,
            "overflow_y": null,
            "padding": null,
            "right": null,
            "top": null,
            "visibility": null,
            "width": null
          }
        }
      }
    }
  },
  "cells": [
    {
      "cell_type": "markdown",
      "metadata": {
        "id": "view-in-github",
        "colab_type": "text"
      },
      "source": [
        "<a href=\"https://colab.research.google.com/github/GHROTH-L/python3/blob/main/%E6%A8%A1%E6%93%AC%E6%8A%95%E8%B3%87(def%20widgets%E7%B7%B4%E7%BF%92).ipynb\" target=\"_parent\"><img src=\"https://colab.research.google.com/assets/colab-badge.svg\" alt=\"Open In Colab\"/></a>"
      ]
    },
    {
      "cell_type": "markdown",
      "source": [
        "###投資建議的簡單機器人，然後在其中加了一個隨機事件的機器人，使其跑出來的結果更有趣\n",
        "(事件1:銀行扣稅10%)\n",
        "(事件二:銀行經濟太好+10%)\n",
        "(事件三:rate-0.01 降息)\n",
        "(事件四:rate+0.01 生息)"
      ],
      "metadata": {
        "id": "esqNZX3yTcbh"
      }
    },
    {
      "cell_type": "code",
      "source": [
        "import ipywidgets as widgets\n",
        "from random import randint"
      ],
      "metadata": {
        "id": "NAUca8SxTiyH"
      },
      "execution_count": 1,
      "outputs": []
    },
    {
      "cell_type": "code",
      "execution_count": 3,
      "metadata": {
        "colab": {
          "base_uri": "https://localhost:8080/",
          "height": 178,
          "referenced_widgets": [
            "ec25dccffb284b248b6922163cbac347",
            "e26d10aa554140eb97b6fb94f5924693",
            "b34c375006604a02971daf067b5b89f9",
            "76fa5830def4446f9a109e20955ed2f5",
            "92aa536c409842d5ad589bd0182a3006",
            "873ca6b5d5174e3280afbe7b4ca61732",
            "2183b037d2654c27a3c7cee2ee87fe01",
            "42b38745dfbb4df6a4691a4508e444df",
            "fb482f23756740948c5880a20bd7bcf1",
            "d0692c58acba49e3a95e5a9e2c098253",
            "83aeda50206d45639c5823db839a220c",
            "817e64c15f4446b2b90e9d7734dd3d96",
            "66d8b7b8c5bc41cbac2d422419e5e358",
            "72f08d30a76b431692c43b2cf34ea28f"
          ]
        },
        "id": "0qZXLyY3TVOH",
        "outputId": "2fd7d97b-fd0f-4e29-8193-1a41e4cf3e0a"
      },
      "outputs": [
        {
          "output_type": "display_data",
          "data": {
            "text/plain": [
              "IntText(value=10000, description='投資金額：')"
            ],
            "application/vnd.jupyter.widget-view+json": {
              "version_major": 2,
              "version_minor": 0,
              "model_id": "ec25dccffb284b248b6922163cbac347"
            }
          },
          "metadata": {}
        },
        {
          "output_type": "display_data",
          "data": {
            "text/plain": [
              "IntSlider(value=1, description='投資期數（年）：', max=10, min=1)"
            ],
            "application/vnd.jupyter.widget-view+json": {
              "version_major": 2,
              "version_minor": 0,
              "model_id": "76fa5830def4446f9a109e20955ed2f5"
            }
          },
          "metadata": {}
        },
        {
          "output_type": "display_data",
          "data": {
            "text/plain": [
              "FloatSlider(value=5.0, description='預期回報率（%）：', max=10.0)"
            ],
            "application/vnd.jupyter.widget-view+json": {
              "version_major": 2,
              "version_minor": 0,
              "model_id": "2183b037d2654c27a3c7cee2ee87fe01"
            }
          },
          "metadata": {}
        },
        {
          "output_type": "display_data",
          "data": {
            "text/plain": [
              "Button(description='計算回報', style=ButtonStyle())"
            ],
            "application/vnd.jupyter.widget-view+json": {
              "version_major": 2,
              "version_minor": 0,
              "model_id": "d0692c58acba49e3a95e5a9e2c098253"
            }
          },
          "metadata": {}
        },
        {
          "output_type": "display_data",
          "data": {
            "text/plain": [
              "Output()"
            ],
            "application/vnd.jupyter.widget-view+json": {
              "version_major": 2,
              "version_minor": 0,
              "model_id": "66d8b7b8c5bc41cbac2d422419e5e358"
            }
          },
          "metadata": {}
        }
      ],
      "source": [
        "\n",
        "#增加事件\n",
        "def calculate_returns(amount, periods, rate):\n",
        "    #total_returns = amount * (1 + rate/100)**periods\n",
        "    risk = randint(1,100)#隨機取出一數字\n",
        "    event = 0\n",
        "    year =0 \n",
        "    if 1 <=risk and risk <= 10 and year == 0:\n",
        "        total_returns = amount * (1 + rate/100)**periods*0.9\n",
        "        event = 1\n",
        "    if 11 <=risk and risk <= 20 and year == 0 :\n",
        "        total_returns = amount * (1 + rate/100)**periods*1.1\n",
        "        event = 2\n",
        "    if 21 <=risk and risk <= 60 and year == 0 :\n",
        "        total_returns = amount * (1 + (rate-0.01)/100)**periods\n",
        "        rate-=0.01\n",
        "        event = 3 \n",
        "    if 61 <=risk and risk <= 100 and year == 0 :\n",
        "        total_returns = amount * (1 + (rate+0.01)/100)**periods\n",
        "        rate+=0.01\n",
        "        event = 4\n",
        "    returns = total_returns - amount\n",
        "    year+=1\n",
        "    return amount, periods, rate, returns, total_returns, event\n",
        "#計算因事件產生的風險\n",
        "def risk_printer(event):\n",
        "    if event == 1:\n",
        "        return \"遇到事件1，銀行扣稅10%\"\n",
        "    elif event == 2:\n",
        "        return \"遇到事件2，經濟太好銀行大放送10%\"\n",
        "    elif event == 3:\n",
        "        return \"遇到事件3，銀行調整利率-1%\"\n",
        "    elif event == 4:\n",
        "        return \"遇到事件4，銀行調整利率+1%\"\n",
        "#按繳交之後的輸出\n",
        "def on_button_click(b):\n",
        "    with output:\n",
        "        output.clear_output()\n",
        "        amount, periods, rate, returns, total_returns, event = calculate_returns(amount_input.value, periods_input.value, rate_input.value)\n",
        "        print(f\"投資金額 {amount} 元, 投資期數 {periods} 年, 預期回報率 {rate:.2f}%, 預期回報 {returns:.2f} 元, 總回報 {total_returns:.2f} 元\")\n",
        "        if event != 0:\n",
        "            result2 = risk_printer(event)\n",
        "            print(result2)\n",
        "\n",
        "amount_input = widgets.IntText(description=\"投資金額：\", value=10000)\n",
        "periods_input = widgets.IntSlider(description=\"投資期數（年）：\",  min=1, max=10)\n",
        "rate_input = widgets.FloatSlider(description=\"預期回報率（%）：\",  min=0.0, max=10.0, step=0.1)\n",
        "output = widgets.Output()\n",
        "\n",
        "button = widgets.Button(description=\"計算回報\")\n",
        "button.on_click(on_button_click)\n",
        "display(amount_input, periods_input, rate_input, button, output) \n",
        "\n",
        "\n"
      ]
    },
    {
      "cell_type": "code",
      "source": [],
      "metadata": {
        "id": "0PQcv2KZV2oa"
      },
      "execution_count": null,
      "outputs": []
    }
  ]
}